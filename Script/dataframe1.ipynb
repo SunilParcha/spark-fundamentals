{
 "cells": [
  {
   "cell_type": "code",
   "execution_count": 1,
   "id": "36de1a0b",
   "metadata": {},
   "outputs": [],
   "source": [
    "#importing pyspark\n",
    "import pyspark"
   ]
  },
  {
   "cell_type": "code",
   "execution_count": 2,
   "id": "659a8ade",
   "metadata": {},
   "outputs": [],
   "source": [
    "#importing sparksession\n",
    "from pyspark.sql import SparkSession"
   ]
  },
  {
   "cell_type": "code",
   "execution_count": 8,
   "id": "02faf3e7",
   "metadata": {},
   "outputs": [],
   "source": [
    "#creating a sparksession object and providing appName \n",
    "spark=SparkSession.builder.appName(\"business_case\").getOrCreate()"
   ]
  },
  {
   "cell_type": "code",
   "execution_count": 4,
   "id": "d30f7ec2",
   "metadata": {},
   "outputs": [],
   "source": [
    "#spark.stop()"
   ]
  },
  {
   "cell_type": "code",
   "execution_count": 10,
   "id": "2a7f7ec3",
   "metadata": {},
   "outputs": [],
   "source": [
    "#To create dataframe form External datasets\n",
    "AirlineDF = spark.read.option(\"header\", \"true\").csv(\"airlines1.csv\")"
   ]
  },
  {
   "cell_type": "code",
   "execution_count": 11,
   "id": "71f7c10a",
   "metadata": {},
   "outputs": [
    {
     "data": {
      "text/plain": [
       "['_c0',\n",
       " 'Year',\n",
       " 'Quarter',\n",
       " 'Month',\n",
       " 'DayofMonth',\n",
       " 'DayOfWeek',\n",
       " 'FlightDate',\n",
       " 'Reporting_Airline',\n",
       " 'DOT_ID_Reporting_Airline',\n",
       " 'IATA_CODE_Reporting_Airline',\n",
       " 'Tail_Number',\n",
       " 'Flight_Number_Reporting_Airline',\n",
       " 'OriginAirportID',\n",
       " 'OriginAirportSeqID',\n",
       " 'OriginCityMarketID',\n",
       " 'Origin',\n",
       " 'OriginCityName',\n",
       " 'OriginState',\n",
       " 'OriginStateFips',\n",
       " 'OriginStateName',\n",
       " 'OriginWac',\n",
       " 'DestAirportID',\n",
       " 'DestAirportSeqID',\n",
       " 'DestCityMarketID',\n",
       " 'Dest',\n",
       " 'DestCityName',\n",
       " 'DestState',\n",
       " 'DestStateFips',\n",
       " 'DestStateName',\n",
       " 'DestWac',\n",
       " 'CRSDepTime',\n",
       " 'DepTime',\n",
       " 'DepDelay',\n",
       " 'DepDelayMinutes',\n",
       " 'DepDel15',\n",
       " 'DepartureDelayGroups',\n",
       " 'DepTimeBlk',\n",
       " 'TaxiOut',\n",
       " 'WheelsOff',\n",
       " 'WheelsOn',\n",
       " 'TaxiIn',\n",
       " 'CRSArrTime',\n",
       " 'ArrTime',\n",
       " 'ArrDelay',\n",
       " 'ArrDelayMinutes',\n",
       " 'ArrDel15',\n",
       " 'ArrivalDelayGroups',\n",
       " 'ArrTimeBlk',\n",
       " 'Cancelled',\n",
       " 'CancellationCode',\n",
       " 'Diverted',\n",
       " 'CRSElapsedTime',\n",
       " 'ActualElapsedTime',\n",
       " 'AirTime',\n",
       " 'Flights',\n",
       " 'Distance',\n",
       " 'DistanceGroup',\n",
       " 'CarrierDelay',\n",
       " 'WeatherDelay',\n",
       " 'NASDelay',\n",
       " 'SecurityDelay',\n",
       " 'LateAircraftDelay',\n",
       " 'FirstDepTime',\n",
       " 'TotalAddGTime',\n",
       " 'LongestAddGTime',\n",
       " 'DivAirportLandings',\n",
       " 'DivReachedDest',\n",
       " 'DivActualElapsedTime',\n",
       " 'DivArrDelay',\n",
       " 'DivDistance',\n",
       " 'Div1Airport',\n",
       " 'Div1AirportID',\n",
       " 'Div1AirportSeqID',\n",
       " 'Div1WheelsOn',\n",
       " 'Div1TotalGTime',\n",
       " 'Div1LongestGTime',\n",
       " 'Div1WheelsOff',\n",
       " 'Div1TailNum',\n",
       " 'Div2Airport',\n",
       " 'Div2AirportID',\n",
       " 'Div2AirportSeqID',\n",
       " 'Div2WheelsOn',\n",
       " 'Div2TotalGTime',\n",
       " 'Div2LongestGTime',\n",
       " 'Div2WheelsOff',\n",
       " 'Div2TailNum',\n",
       " 'Div3Airport',\n",
       " 'Div3AirportID',\n",
       " 'Div3AirportSeqID',\n",
       " 'Div3WheelsOn',\n",
       " 'Div3TotalGTime',\n",
       " 'Div3LongestGTime',\n",
       " 'Div3WheelsOff',\n",
       " 'Div3TailNum',\n",
       " 'Div4Airport',\n",
       " 'Div4AirportID',\n",
       " 'Div4AirportSeqID',\n",
       " 'Div4WheelsOn',\n",
       " 'Div4TotalGTime',\n",
       " 'Div4LongestGTime',\n",
       " 'Div4WheelsOff',\n",
       " 'Div4TailNum',\n",
       " 'Div5Airport',\n",
       " 'Div5AirportID',\n",
       " 'Div5AirportSeqID',\n",
       " 'Div5WheelsOn',\n",
       " 'Div5TotalGTime',\n",
       " 'Div5LongestGTime',\n",
       " 'Div5WheelsOff',\n",
       " 'Div5TailNum']"
      ]
     },
     "execution_count": 11,
     "metadata": {},
     "output_type": "execute_result"
    }
   ],
   "source": [
    "# for all columns\n",
    "AirlineDF.columns"
   ]
  },
  {
   "cell_type": "code",
   "execution_count": 12,
   "id": "b418d362",
   "metadata": {},
   "outputs": [
    {
     "name": "stdout",
     "output_type": "stream",
     "text": [
      "22/12/13 16:49:41 WARN package: Truncated the string representation of a plan since it was too large. This behavior can be adjusted by setting 'spark.sql.debug.maxToStringFields'.\n",
      "22/12/13 16:49:41 WARN CSVHeaderChecker: CSV header does not conform to the schema.\n",
      " Header: , Year, Quarter, Month, DayofMonth, DayOfWeek, FlightDate, Reporting_Airline, DOT_ID_Reporting_Airline, IATA_CODE_Reporting_Airline, Tail_Number, Flight_Number_Reporting_Airline, OriginAirportID, OriginAirportSeqID, OriginCityMarketID, Origin, OriginCityName, OriginState, OriginStateFips, OriginStateName, OriginWac, DestAirportID, DestAirportSeqID, DestCityMarketID, Dest, DestCityName, DestState, DestStateFips, DestStateName, DestWac, CRSDepTime, DepTime, DepDelay, DepDelayMinutes, DepDel15, DepartureDelayGroups, DepTimeBlk, TaxiOut, WheelsOff, WheelsOn, TaxiIn, CRSArrTime, ArrTime, ArrDelay, ArrDelayMinutes, ArrDel15, ArrivalDelayGroups, ArrTimeBlk, Cancelled, CancellationCode, Diverted, CRSElapsedTime, ActualElapsedTime, AirTime, Flights, Distance, DistanceGroup, CarrierDelay, WeatherDelay, NASDelay, SecurityDelay, LateAircraftDelay, FirstDepTime, TotalAddGTime, LongestAddGTime, DivAirportLandings, DivReachedDest, DivActualElapsedTime, DivArrDelay, DivDistance, Div1Airport, Div1AirportID, Div1AirportSeqID, Div1WheelsOn, Div1TotalGTime, Div1LongestGTime, Div1WheelsOff, Div1TailNum, Div2Airport, Div2AirportID, Div2AirportSeqID, Div2WheelsOn, Div2TotalGTime, Div2LongestGTime, Div2WheelsOff, Div2TailNum, Div3Airport, Div3AirportID, Div3AirportSeqID, Div3WheelsOn, Div3TotalGTime, Div3LongestGTime, Div3WheelsOff, Div3TailNum, Div4Airport, Div4AirportID, Div4AirportSeqID, Div4WheelsOn, Div4TotalGTime, Div4LongestGTime, Div4WheelsOff, Div4TailNum, Div5Airport, Div5AirportID, Div5AirportSeqID, Div5WheelsOn, Div5TotalGTime, Div5LongestGTime, Div5WheelsOff, Div5TailNum\n",
      " Schema: _c0, Year, Quarter, Month, DayofMonth, DayOfWeek, FlightDate, Reporting_Airline, DOT_ID_Reporting_Airline, IATA_CODE_Reporting_Airline, Tail_Number, Flight_Number_Reporting_Airline, OriginAirportID, OriginAirportSeqID, OriginCityMarketID, Origin, OriginCityName, OriginState, OriginStateFips, OriginStateName, OriginWac, DestAirportID, DestAirportSeqID, DestCityMarketID, Dest, DestCityName, DestState, DestStateFips, DestStateName, DestWac, CRSDepTime, DepTime, DepDelay, DepDelayMinutes, DepDel15, DepartureDelayGroups, DepTimeBlk, TaxiOut, WheelsOff, WheelsOn, TaxiIn, CRSArrTime, ArrTime, ArrDelay, ArrDelayMinutes, ArrDel15, ArrivalDelayGroups, ArrTimeBlk, Cancelled, CancellationCode, Diverted, CRSElapsedTime, ActualElapsedTime, AirTime, Flights, Distance, DistanceGroup, CarrierDelay, WeatherDelay, NASDelay, SecurityDelay, LateAircraftDelay, FirstDepTime, TotalAddGTime, LongestAddGTime, DivAirportLandings, DivReachedDest, DivActualElapsedTime, DivArrDelay, DivDistance, Div1Airport, Div1AirportID, Div1AirportSeqID, Div1WheelsOn, Div1TotalGTime, Div1LongestGTime, Div1WheelsOff, Div1TailNum, Div2Airport, Div2AirportID, Div2AirportSeqID, Div2WheelsOn, Div2TotalGTime, Div2LongestGTime, Div2WheelsOff, Div2TailNum, Div3Airport, Div3AirportID, Div3AirportSeqID, Div3WheelsOn, Div3TotalGTime, Div3LongestGTime, Div3WheelsOff, Div3TailNum, Div4Airport, Div4AirportID, Div4AirportSeqID, Div4WheelsOn, Div4TotalGTime, Div4LongestGTime, Div4WheelsOff, Div4TailNum, Div5Airport, Div5AirportID, Div5AirportSeqID, Div5WheelsOn, Div5TotalGTime, Div5LongestGTime, Div5WheelsOff, Div5TailNum\n",
      "Expected: _c0 but found: \n",
      "CSV file: file:///Users/sunilparcha/Documents/DE%20Code/spark-fundamentals/Advance/airlines1.csv\n",
      "+---+----+-------+-----+----------+---------+----------+-----------------+------------------------+---------------------------+-----------+-------------------------------+---------------+------------------+------------------+------+--------------------+-----------+---------------+---------------+---------+-------------+----------------+----------------+----+--------------------+---------+-------------+--------------+-------+----------+-------+--------+---------------+--------+--------------------+----------+-------+---------+--------+------+----------+-------+--------+---------------+--------+------------------+----------+---------+----------------+--------+--------------+-----------------+-------+-------+--------+-------------+------------+------------+--------+-------------+-----------------+------------+-------------+---------------+------------------+--------------+--------------------+-----------+-----------+-----------+-------------+----------------+------------+--------------+----------------+-------------+-----------+-----------+-------------+----------------+------------+--------------+----------------+-------------+-----------+-----------+-------------+----------------+------------+--------------+----------------+-------------+-----------+-----------+-------------+----------------+------------+--------------+----------------+-------------+-----------+-----------+-------------+----------------+------------+--------------+----------------+-------------+-----------+\n",
      "|_c0|Year|Quarter|Month|DayofMonth|DayOfWeek|FlightDate|Reporting_Airline|DOT_ID_Reporting_Airline|IATA_CODE_Reporting_Airline|Tail_Number|Flight_Number_Reporting_Airline|OriginAirportID|OriginAirportSeqID|OriginCityMarketID|Origin|      OriginCityName|OriginState|OriginStateFips|OriginStateName|OriginWac|DestAirportID|DestAirportSeqID|DestCityMarketID|Dest|        DestCityName|DestState|DestStateFips| DestStateName|DestWac|CRSDepTime|DepTime|DepDelay|DepDelayMinutes|DepDel15|DepartureDelayGroups|DepTimeBlk|TaxiOut|WheelsOff|WheelsOn|TaxiIn|CRSArrTime|ArrTime|ArrDelay|ArrDelayMinutes|ArrDel15|ArrivalDelayGroups|ArrTimeBlk|Cancelled|CancellationCode|Diverted|CRSElapsedTime|ActualElapsedTime|AirTime|Flights|Distance|DistanceGroup|CarrierDelay|WeatherDelay|NASDelay|SecurityDelay|LateAircraftDelay|FirstDepTime|TotalAddGTime|LongestAddGTime|DivAirportLandings|DivReachedDest|DivActualElapsedTime|DivArrDelay|DivDistance|Div1Airport|Div1AirportID|Div1AirportSeqID|Div1WheelsOn|Div1TotalGTime|Div1LongestGTime|Div1WheelsOff|Div1TailNum|Div2Airport|Div2AirportID|Div2AirportSeqID|Div2WheelsOn|Div2TotalGTime|Div2LongestGTime|Div2WheelsOff|Div2TailNum|Div3Airport|Div3AirportID|Div3AirportSeqID|Div3WheelsOn|Div3TotalGTime|Div3LongestGTime|Div3WheelsOff|Div3TailNum|Div4Airport|Div4AirportID|Div4AirportSeqID|Div4WheelsOn|Div4TotalGTime|Div4LongestGTime|Div4WheelsOff|Div4TailNum|Div5Airport|Div5AirportID|Div5AirportSeqID|Div5WheelsOn|Div5TotalGTime|Div5LongestGTime|Div5WheelsOff|Div5TailNum|\n",
      "+---+----+-------+-----+----------+---------+----------+-----------------+------------------------+---------------------------+-----------+-------------------------------+---------------+------------------+------------------+------+--------------------+-----------+---------------+---------------+---------+-------------+----------------+----------------+----+--------------------+---------+-------------+--------------+-------+----------+-------+--------+---------------+--------+--------------------+----------+-------+---------+--------+------+----------+-------+--------+---------------+--------+------------------+----------+---------+----------------+--------+--------------+-----------------+-------+-------+--------+-------------+------------+------------+--------+-------------+-----------------+------------+-------------+---------------+------------------+--------------+--------------------+-----------+-----------+-----------+-------------+----------------+------------+--------------+----------------+-------------+-----------+-----------+-------------+----------------+------------+--------------+----------------+-------------+-----------+-----------+-------------+----------------+------------+--------------+----------------+-------------+-----------+-----------+-------------+----------------+------------+--------------+----------------+-------------+-----------+-----------+-------------+----------------+------------+--------------+----------------+-------------+-----------+\n",
      "|  0|1998|      1|    1|         2|        5|1998-01-02|               NW|                   19386|                         NW|     N297US|                            675|          13487|           1348701|             31650|   MSP|     Minneapolis, MN|         MN|           27.0|      Minnesota|       63|        14869|         1486902|           34614| SLC|  Salt Lake City, UT|       UT|         49.0|          Utah|     87|      1640| 1659.0|    19.0|           19.0|     1.0|                 1.0| 1600-1659|   24.0|   1723.0|  1856.0|   3.0|      1836| 1859.0|    23.0|           23.0|     1.0|               1.0| 1800-1859|      0.0|            null|     0.0|         176.0|            180.0|  153.0|    1.0|   991.0|            4|        null|        null|    null|         null|             null|        null|         null|           null|              null|          null|                null|       null|       null|       null|         null|            null|        null|          null|            null|         null|       null|       null|         null|            null|        null|          null|            null|         null|       null|       null|         null|            null|        null|          null|            null|         null|       null|       null|         null|            null|        null|          null|            null|         null|       null|       null|         null|            null|        null|          null|            null|         null|       null|\n",
      "|  1|2009|      2|    5|        28|        4|2009-05-28|               FL|                   20437|                         FL|     N946AT|                            671|          13342|           1334202|             33342|   MKE|       Milwaukee, WI|         WI|           55.0|      Wisconsin|       45|        13204|         1320401|           31454| MCO|         Orlando, FL|       FL|         12.0|       Florida|     33|      1204| 1202.0|    -2.0|            0.0|     0.0|                -1.0| 1200-1259|   10.0|   1212.0|  1533.0|   8.0|      1541| 1541.0|     0.0|            0.0|     0.0|               0.0| 1500-1559|      0.0|            null|     0.0|         157.0|            159.0|  141.0|    1.0|  1066.0|            5|        null|        null|    null|         null|             null|        null|         null|           null|               0.0|          null|                null|       null|       null|       null|         null|            null|        null|          null|            null|         null|       null|       null|         null|            null|        null|          null|            null|         null|       null|       null|         null|            null|        null|          null|            null|         null|       null|       null|         null|            null|        null|          null|            null|         null|       null|       null|         null|            null|        null|          null|            null|         null|       null|\n",
      "|  2|2013|      2|    6|        29|        6|2013-06-29|               MQ|                   20398|                         MQ|     N665MQ|                           3297|          11921|           1192102|             31921|   GJT|  Grand Junction, CO|         CO|            8.0|       Colorado|       82|        11298|         1129803|           30194| DFW|Dallas/Fort Worth...|       TX|         48.0|         Texas|     74|      1630| 1644.0|    14.0|           14.0|     0.0|                 0.0| 1600-1659|    9.0|   1653.0|  1936.0|   6.0|      1945| 1942.0|    -3.0|            0.0|     0.0|              -1.0| 1900-1959|      0.0|            null|     0.0|         135.0|            118.0|  103.0|    1.0|   773.0|            4|        null|        null|    null|         null|             null|        null|         null|           null|               0.0|          null|                null|       null|       null|       null|         null|            null|        null|          null|            null|         null|       null|       null|         null|            null|        null|          null|            null|         null|       null|       null|         null|            null|        null|          null|            null|         null|       null|       null|         null|            null|        null|          null|            null|         null|       null|       null|         null|            null|        null|          null|            null|         null|       null|\n",
      "|  3|2010|      3|    8|        31|        2|2010-08-31|               DL|                   19790|                         DL|     N6705Y|                           1806|          12892|           1289201|             32575|   LAX|     Los Angeles, CA|         CA|            6.0|     California|       91|        11433|         1143301|           31295| DTW|         Detroit, MI|       MI|         26.0|      Michigan|     43|      1305| 1305.0|     0.0|            0.0|     0.0|                 0.0| 1300-1359|   23.0|   1328.0|  2008.0|   7.0|      2035| 2015.0|   -20.0|            0.0|     0.0|              -2.0| 2000-2059|      0.0|            null|     0.0|         270.0|            250.0|  220.0|    1.0|  1979.0|            8|        null|        null|    null|         null|             null|        null|         null|           null|               0.0|          null|                null|       null|       null|       null|         null|            null|        null|          null|            null|         null|       null|       null|         null|            null|        null|          null|            null|         null|       null|       null|         null|            null|        null|          null|            null|         null|       null|       null|         null|            null|        null|          null|            null|         null|       null|       null|         null|            null|        null|          null|            null|         null|       null|\n",
      "|  4|2006|      1|    1|        15|        7|2006-01-15|               US|                   20355|                         US|     N504AU|                            465|          11618|           1161801|             31703|   EWR|          Newark, NJ|         NJ|           34.0|     New Jersey|       21|        11057|         1105702|           31057| CLT|       Charlotte, NC|       NC|         37.0|North Carolina|     36|      1820| 1911.0|    51.0|           51.0|     1.0|                 3.0| 1800-1859|   19.0|   1930.0|  2050.0|   8.0|      2026| 2058.0|    32.0|           32.0|     1.0|               2.0| 2000-2059|      0.0|            null|     0.0|         126.0|            107.0|   80.0|    1.0|   529.0|            3|         0.0|         0.0|     0.0|          0.0|             32.0|        null|         null|           null|              null|          null|                null|       null|       null|       null|         null|            null|        null|          null|            null|         null|       null|       null|         null|            null|        null|          null|            null|         null|       null|       null|         null|            null|        null|          null|            null|         null|       null|       null|         null|            null|        null|          null|            null|         null|       null|       null|         null|            null|        null|          null|            null|         null|       null|\n",
      "|  5|1995|      4|   11|        29|        3|1995-11-29|               DL|                   19790|                         DL|     N925DL|                           1198|          11298|           1129802|             30194|   DFW|Dallas/Fort Worth...|         TX|           48.0|          Texas|       74|        14814|         1481401|           30476| SHV|      Shreveport, LA|       LA|         22.0|     Louisiana|     72|       639|  639.0|     0.0|            0.0|     0.0|                 0.0| 0600-0659|   29.0|    708.0|   736.0|   5.0|       730|  741.0|    11.0|           11.0|     0.0|               0.0| 0700-0759|      0.0|            null|     0.0|          51.0|             62.0|   28.0|    1.0|   190.0|            1|        null|        null|    null|         null|             null|        null|         null|           null|              null|          null|                null|       null|       null|       null|         null|            null|        null|          null|            null|         null|       null|       null|         null|            null|        null|          null|            null|         null|       null|       null|         null|            null|        null|          null|            null|         null|       null|       null|         null|            null|        null|          null|            null|         null|       null|       null|         null|            null|        null|          null|            null|         null|       null|\n",
      "|  6|2006|      3|    8|         7|        1|2006-08-07|               CO|                   19704|                         CO|     N27724|                           1431|          10721|           1072101|             30721|   BOS|          Boston, MA|         MA|           25.0|  Massachusetts|       13|        11042|         1104201|           30647| CLE|       Cleveland, OH|       OH|         39.0|          Ohio|     44|      1755| 1751.0|    -4.0|            0.0|     0.0|                -1.0| 1700-1759|   33.0|   1824.0|  1958.0|   4.0|      2000| 2002.0|     2.0|            2.0|     0.0|               0.0| 2000-2059|      0.0|            null|     0.0|         125.0|            131.0|   94.0|    1.0|   563.0|            3|        null|        null|    null|         null|             null|        null|         null|           null|              null|          null|                null|       null|       null|       null|         null|            null|        null|          null|            null|         null|       null|       null|         null|            null|        null|          null|            null|         null|       null|       null|         null|            null|        null|          null|            null|         null|       null|       null|         null|            null|        null|          null|            null|         null|       null|       null|         null|            null|        null|          null|            null|         null|       null|\n",
      "|  7|2019|      2|    6|        11|        2|2019-06-11|               9E|                   20363|                         9E|     N927XJ|                           3459|          10397|           1039707|             30397|   ATL|         Atlanta, GA|         GA|           13.0|        Georgia|       34|        10868|         1086803|           30868| CAE|        Columbia, SC|       SC|         45.0|South Carolina|     37|      1950| 2331.0|   221.0|          221.0|     1.0|                12.0| 1900-1959|   19.0|   2350.0|    25.0|   6.0|      2057|   31.0|   214.0|          214.0|     1.0|              12.0| 2000-2059|      0.0|            null|     0.0|          67.0|             60.0|   35.0|    1.0|   192.0|            1|         0.0|         0.0|     0.0|          0.0|            214.0|        null|         null|           null|               0.0|          null|                null|       null|       null|       null|         null|            null|        null|          null|            null|         null|       null|       null|         null|            null|        null|          null|            null|         null|       null|       null|         null|            null|        null|          null|            null|         null|       null|       null|         null|            null|        null|          null|            null|         null|       null|       null|         null|            null|        null|          null|            null|         null|       null|\n",
      "|  8|2008|      3|    8|         3|        7|2008-08-03|               YV|                   20378|                         YV|     N522LR|                           7233|          13930|           1393001|             30977|   ORD|         Chicago, IL|         IL|           17.0|       Illinois|       41|        11042|         1104201|           30647| CLE|       Cleveland, OH|       OH|         39.0|          Ohio|     44|      1550| 1552.0|     2.0|            2.0|     0.0|                 0.0| 1500-1559|   26.0|   1618.0|  1817.0|   3.0|      1810| 1820.0|    10.0|           10.0|     0.0|               0.0| 1800-1859|      0.0|            null|     0.0|          80.0|             88.0|   59.0|    1.0|   316.0|            2|        null|        null|    null|         null|             null|        null|         null|           null|              null|          null|                null|       null|       null|       null|         null|            null|        null|          null|            null|         null|       null|       null|         null|            null|        null|          null|            null|         null|       null|       null|         null|            null|        null|          null|            null|         null|       null|       null|         null|            null|        null|          null|            null|         null|       null|       null|         null|            null|        null|          null|            null|         null|       null|\n",
      "|  9|2018|      1|    2|         8|        4|2018-02-08|               WN|                   19393|                         WN|     N8688J|                           5932|          13232|           1323202|             30977|   MDW|         Chicago, IL|         IL|           17.0|       Illinois|       41|        11259|         1125903|           30194| DAL|          Dallas, TX|       TX|         48.0|         Texas|     74|      2030| 2046.0|    16.0|           16.0|     1.0|                 1.0| 2000-2059|   34.0|   2120.0|  2314.0|   5.0|      2250| 2319.0|    29.0|           29.0|     1.0|               1.0| 2200-2259|      0.0|            null|     0.0|         140.0|            153.0|  114.0|    1.0|   793.0|            4|         0.0|         0.0|    13.0|          0.0|             16.0|        null|         null|           null|               0.0|          null|                null|       null|       null|       null|         null|            null|        null|          null|            null|         null|       null|       null|         null|            null|        null|          null|            null|         null|       null|       null|         null|            null|        null|          null|            null|         null|       null|       null|         null|            null|        null|          null|            null|         null|       null|       null|         null|            null|        null|          null|            null|         null|       null|\n",
      "| 10|1991|      4|   11|        21|        4|1991-11-21|               US|                   20355|                         US|       null|                           2135|          14679|           1467902|             33570|   SAN|       San Diego, CA|         CA|            6.0|     California|       91|        12892|         1289201|           32575| LAX|     Los Angeles, CA|       CA|          6.0|    California|     91|      1245| 1247.0|     2.0|            2.0|     0.0|                 0.0| 1200-1259|   null|     null|    null|  null|      1325| 1331.0|     6.0|            6.0|     0.0|               0.0| 1300-1359|      0.0|            null|     0.0|          40.0|             44.0|   null|    1.0|   109.0|            1|        null|        null|    null|         null|             null|        null|         null|           null|              null|          null|                null|       null|       null|       null|         null|            null|        null|          null|            null|         null|       null|       null|         null|            null|        null|          null|            null|         null|       null|       null|         null|            null|        null|          null|            null|         null|       null|       null|         null|            null|        null|          null|            null|         null|       null|       null|         null|            null|        null|          null|            null|         null|       null|\n",
      "| 11|2014|      2|    4|         3|        4|2014-04-03|               WN|                   19393|                         WN|     N374SW|                           1463|          11540|           1154003|             30615|   ELP|         El Paso, TX|         TX|           48.0|          Texas|       74|        11259|         1125903|           30194| DAL|          Dallas, TX|       TX|         48.0|         Texas|     74|      1025| 1025.0|     0.0|            0.0|     0.0|                 0.0| 1000-1059|   10.0|   1035.0|  1252.0|   3.0|      1300| 1255.0|    -5.0|            0.0|     0.0|              -1.0| 1300-1359|      0.0|            null|     0.0|          95.0|             90.0|   77.0|    1.0|   562.0|            3|        null|        null|    null|         null|             null|        null|         null|           null|               0.0|          null|                null|       null|       null|       null|         null|            null|        null|          null|            null|         null|       null|       null|         null|            null|        null|          null|            null|         null|       null|       null|         null|            null|        null|          null|            null|         null|       null|       null|         null|            null|        null|          null|            null|         null|       null|       null|         null|            null|        null|          null|            null|         null|       null|\n",
      "| 12|1994|      3|    7|        24|        7|1994-07-24|               AA|                   19805|                         AA|       null|                            830|          14843|           1484302|             34819|   SJU|        San Juan, PR|         PR|           72.0|    Puerto Rico|        3|        13303|         1330302|           32467| MIA|           Miami, FL|       FL|         12.0|       Florida|     33|      1245| 1242.0|    -3.0|            0.0|     0.0|                -1.0| 1200-1259|   null|     null|    null|  null|      1521| 1511.0|   -10.0|            0.0|     0.0|              -1.0| 1500-1559|      0.0|            null|     0.0|         156.0|            149.0|   null|    1.0|  1045.0|            5|        null|        null|    null|         null|             null|        null|         null|           null|              null|          null|                null|       null|       null|       null|         null|            null|        null|          null|            null|         null|       null|       null|         null|            null|        null|          null|            null|         null|       null|       null|         null|            null|        null|          null|            null|         null|       null|       null|         null|            null|        null|          null|            null|         null|       null|       null|         null|            null|        null|          null|            null|         null|       null|\n",
      "| 13|2013|      2|    6|        30|        7|2013-06-30|               OO|                   20304|                         OO|     N947SW|                           6474|          10140|           1014002|             30140|   ABQ|     Albuquerque, NM|         NM|           35.0|     New Mexico|       86|        12892|         1289203|           32575| LAX|     Los Angeles, CA|       CA|          6.0|    California|     91|      1601| 1557.0|    -4.0|            0.0|     0.0|                -1.0| 1600-1659|    6.0|   1603.0|  1638.0|   8.0|      1705| 1646.0|   -19.0|            0.0|     0.0|              -2.0| 1700-1759|      0.0|            null|     0.0|         124.0|            109.0|   95.0|    1.0|   677.0|            3|        null|        null|    null|         null|             null|        null|         null|           null|               0.0|          null|                null|       null|       null|       null|         null|            null|        null|          null|            null|         null|       null|       null|         null|            null|        null|          null|            null|         null|       null|       null|         null|            null|        null|          null|            null|         null|       null|       null|         null|            null|        null|          null|            null|         null|       null|       null|         null|            null|        null|          null|            null|         null|       null|\n",
      "| 14|2003|      4|   11|        21|        5|2003-11-21|               UA|                   19977|                         UA|     N308UA|                            674|          13930|           1393001|             30977|   ORD|         Chicago, IL|         IL|           17.0|       Illinois|       41|        12953|         1295301|           31703| LGA|        New York, NY|       NY|         36.0|      New York|     22|       900|  855.0|    -5.0|            0.0|     0.0|                -1.0| 0900-0959|   14.0|    909.0|  1148.0|   2.0|      1206| 1150.0|   -16.0|            0.0|     0.0|              -2.0| 1200-1259|      0.0|            null|     0.0|         126.0|            115.0|   99.0|    1.0|   733.0|            3|        null|        null|    null|         null|             null|        null|         null|           null|              null|          null|                null|       null|       null|       null|         null|            null|        null|          null|            null|         null|       null|       null|         null|            null|        null|          null|            null|         null|       null|       null|         null|            null|        null|          null|            null|         null|       null|       null|         null|            null|        null|          null|            null|         null|       null|       null|         null|            null|        null|          null|            null|         null|       null|\n",
      "| 15|1988|      2|    4|         4|        1|1988-04-04|               PI|                   19822|                         PI|       null|                            362|          11995|           1199501|             31995|   GSO|Greensboro/High P...|         NC|           37.0| North Carolina|       36|        10821|         1082102|           30852| BWI|       Baltimore, MD|       MD|         24.0|      Maryland|     35|       630|  631.0|     1.0|            1.0|     0.0|                 0.0| 0600-0659|   null|     null|    null|  null|       728|  737.0|     9.0|            9.0|     0.0|               0.0| 0700-0759|      0.0|            null|     0.0|          58.0|             66.0|   null|    1.0|   278.0|            2|        null|        null|    null|         null|             null|        null|         null|           null|              null|          null|                null|       null|       null|       null|         null|            null|        null|          null|            null|         null|       null|       null|         null|            null|        null|          null|            null|         null|       null|       null|         null|            null|        null|          null|            null|         null|       null|       null|         null|            null|        null|          null|            null|         null|       null|       null|         null|            null|        null|          null|            null|         null|       null|\n",
      "| 16|2007|      3|    9|         5|        3|2007-09-05|               NW|                   19386|                         NW|     N8928E|                           1678|          11433|           1143301|             31295|   DTW|         Detroit, MI|         MI|           26.0|       Michigan|       43|        13184|         1318402|           33184| MBS|Saginaw/Bay City/...|       MI|         26.0|      Michigan|     43|      1201| 1150.0|   -11.0|            0.0|     0.0|                -1.0| 1200-1259|   20.0|   1210.0|  1234.0|   5.0|      1246| 1239.0|    -7.0|            0.0|     0.0|              -1.0| 1200-1259|      0.0|            null|     0.0|          45.0|             49.0|   24.0|    1.0|    98.0|            1|        null|        null|    null|         null|             null|        null|         null|           null|              null|          null|                null|       null|       null|       null|         null|            null|        null|          null|            null|         null|       null|       null|         null|            null|        null|          null|            null|         null|       null|       null|         null|            null|        null|          null|            null|         null|       null|       null|         null|            null|        null|          null|            null|         null|       null|       null|         null|            null|        null|          null|            null|         null|       null|\n",
      "| 17|2015|      3|    9|         5|        6|2015-09-05|               AS|                   19930|                         AS|     N589AS|                            413|          14869|           1486903|             34614|   SLC|  Salt Lake City, UT|         UT|           49.0|           Utah|       87|        14747|         1474703|           30559| SEA|         Seattle, WA|       WA|         53.0|    Washington|     93|      1745| 1733.0|   -12.0|            0.0|     0.0|                -1.0| 1700-1759|    9.0|   1742.0|  1824.0|   8.0|      1855| 1832.0|   -23.0|            0.0|     0.0|              -2.0| 1800-1859|      0.0|            null|     0.0|         130.0|            119.0|  102.0|    1.0|   689.0|            3|        null|        null|    null|         null|             null|        null|         null|           null|               0.0|          null|                null|       null|       null|       null|         null|            null|        null|          null|            null|         null|       null|       null|         null|            null|        null|          null|            null|         null|       null|       null|         null|            null|        null|          null|            null|         null|       null|       null|         null|            null|        null|          null|            null|         null|       null|       null|         null|            null|        null|          null|            null|         null|       null|\n",
      "| 18|2006|      1|    1|        28|        6|2006-01-28|               UA|                   19977|                         UA|     N426UA|                            210|          12892|           1289201|             32575|   LAX|     Los Angeles, CA|         CA|            6.0|     California|       91|        12264|         1226401|           30852| IAD|      Washington, DC|       VA|         51.0|      Virginia|     38|      1545| 1542.0|    -3.0|            0.0|     0.0|                -1.0| 1500-1559|   11.0|   1553.0|  2308.0|   5.0|      2327| 2313.0|   -14.0|            0.0|     0.0|              -1.0| 2300-2359|      0.0|            null|     0.0|         282.0|            271.0|  255.0|    1.0|  2288.0|           10|        null|        null|    null|         null|             null|        null|         null|           null|              null|          null|                null|       null|       null|       null|         null|            null|        null|          null|            null|         null|       null|       null|         null|            null|        null|          null|            null|         null|       null|       null|         null|            null|        null|          null|            null|         null|       null|       null|         null|            null|        null|          null|            null|         null|       null|       null|         null|            null|        null|          null|            null|         null|       null|\n",
      "| 19|2017|      3|    7|        26|        3|2017-07-26|               WN|                   19393|                         WN|     N252WN|                            995|          14893|           1489302|             33192|   SMF|      Sacramento, CA|         CA|            6.0|     California|       91|        12892|         1289205|           32575| LAX|     Los Angeles, CA|       CA|          6.0|    California|     91|      1535|   null|    null|           null|    null|                null| 1500-1559|   null|     null|    null|  null|      1700|   null|    null|           null|    null|              null| 1700-1759|      1.0|               A|     0.0|          85.0|             null|   null|    1.0|   373.0|            2|        null|        null|    null|         null|             null|        null|         null|           null|               0.0|          null|                null|       null|       null|       null|         null|            null|        null|          null|            null|         null|       null|       null|         null|            null|        null|          null|            null|         null|       null|       null|         null|            null|        null|          null|            null|         null|       null|       null|         null|            null|        null|          null|            null|         null|       null|       null|         null|            null|        null|          null|            null|         null|       null|\n",
      "+---+----+-------+-----+----------+---------+----------+-----------------+------------------------+---------------------------+-----------+-------------------------------+---------------+------------------+------------------+------+--------------------+-----------+---------------+---------------+---------+-------------+----------------+----------------+----+--------------------+---------+-------------+--------------+-------+----------+-------+--------+---------------+--------+--------------------+----------+-------+---------+--------+------+----------+-------+--------+---------------+--------+------------------+----------+---------+----------------+--------+--------------+-----------------+-------+-------+--------+-------------+------------+------------+--------+-------------+-----------------+------------+-------------+---------------+------------------+--------------+--------------------+-----------+-----------+-----------+-------------+----------------+------------+--------------+----------------+-------------+-----------+-----------+-------------+----------------+------------+--------------+----------------+-------------+-----------+-----------+-------------+----------------+------------+--------------+----------------+-------------+-----------+-----------+-------------+----------------+------------+--------------+----------------+-------------+-----------+-----------+-------------+----------------+------------+--------------+----------------+-------------+-----------+\n",
      "only showing top 20 rows\n",
      "\n"
     ]
    }
   ],
   "source": [
    "AirlineDF.show()"
   ]
  },
  {
   "cell_type": "markdown",
   "id": "1c03fdc9",
   "metadata": {},
   "source": [
    "# create multiple dataframes as per data information"
   ]
  },
  {
   "cell_type": "code",
   "execution_count": null,
   "id": "40ba7073",
   "metadata": {},
   "outputs": [],
   "source": [
    "AirlineTimeInfo = AirlineDF.select(\"_c0\",\"Year\",\"Quarter\", \"Month\", \"DayofMonth\", \"DayofWeek\" , \"FlightDate\" )\n",
    "AirlineInfo = AirlineDF.select(\"_c0\",\"Reporting_Airline\",\"DOT_ID_Reporting_Airline\", \"IATA_CODE_Reporting_Airline\", \"Tail_Number\", \"Flight_Number_Reporting_Airline\" )\n",
    "AirlineOriginInfo = AirlineDF.select(\"_c0\",\"OriginAirportID\",\"OriginAirportSeqID\", \"OriginCityMarketID\", \"Origin\", \"OriginCityName\" , \"OriginState\", \"OriginStateFips\", \"OriginStateName\", \"OriginWac\" )\n",
    "AirlineDestinationInfo = AirlineDF.select(\"_c0\",\"DestAirportID\",\"DestAirportSeqID\", \"DestCityMarketID\", \"Dest\", \"DestCityName\" , \"DestState\", \"DestStateFips\", \"DestStateName\", \"DestWac\" )\n",
    "AirlineDepartureInfo = AirlineDF.select(\"_c0\",\"CRSDepTime\",\"DepTime\", \"DepDelay\", \"DepDelayMinutes\", \"DepDel15\" , \"DepartureDelayGroups\", \"DepTimeBlk\", \"TaxiOut\", \"WheelsOff\" )\n",
    "AirlineArrivalInfo = AirlineDF.select(\"_c0\",\"WheelsOn\",\"TaxiIn\", \"CRSArrTime\", \"ArrTime\", \"ArrDelay\" , \"ArrDelayMinutes\", \"ArrDel15\", \"ArrivalDelayGroups\", \"ArrTimeBlk\" )\n",
    "AirlineCanDivInfo = AirlineDF.select(\"_c0\",\"Cancelled\",\"CancellationCode\", \"Diverted\" )\n",
    "AirlineSummry = AirlineDF.select(\"_c0\",\"CRSElapsedTime\",\"ActualElapsedTime\", \"AirTime\", \"Flights\", \"Distance\" , \"DistanceGroup\" )\n",
    "AirlineDelayInfo = AirlineDF.select(\"_c0\",\"CarrierDelay\",\"WeatherDelay\", \"NASDelay\", \"SecurityDelay\", \"LateAircraftDelay\" ) \n"
   ]
  },
  {
   "cell_type": "code",
   "execution_count": null,
   "id": "0507aeb8",
   "metadata": {},
   "outputs": [],
   "source": [
    "#AirlineTimeInfo.summary().show()\n",
    "AirlineTimeInfo.show()"
   ]
  },
  {
   "cell_type": "code",
   "execution_count": 13,
   "id": "130f190f",
   "metadata": {},
   "outputs": [
    {
     "ename": "NameError",
     "evalue": "name 'AirlineTimeInfo' is not defined",
     "output_type": "error",
     "traceback": [
      "\u001b[0;31m---------------------------------------------------------------------------\u001b[0m",
      "\u001b[0;31mNameError\u001b[0m                                 Traceback (most recent call last)",
      "\u001b[0;32m/var/folders/fj/rs1vx2tx25z8k5v6zk13d52c0000gn/T/ipykernel_2411/2291254195.py\u001b[0m in \u001b[0;36m<module>\u001b[0;34m\u001b[0m\n\u001b[1;32m      1\u001b[0m \u001b[0;31m# calculate total no of flights\u001b[0m\u001b[0;34m\u001b[0m\u001b[0;34m\u001b[0m\u001b[0m\n\u001b[0;32m----> 2\u001b[0;31m \u001b[0mAirlineTimeInfo\u001b[0m\u001b[0;34m.\u001b[0m\u001b[0mselect\u001b[0m\u001b[0;34m(\u001b[0m\u001b[0;34m'_c0'\u001b[0m\u001b[0;34m)\u001b[0m\u001b[0;34m.\u001b[0m\u001b[0mcount\u001b[0m\u001b[0;34m(\u001b[0m\u001b[0;34m)\u001b[0m\u001b[0;34m\u001b[0m\u001b[0;34m\u001b[0m\u001b[0m\n\u001b[0m",
      "\u001b[0;31mNameError\u001b[0m: name 'AirlineTimeInfo' is not defined"
     ]
    }
   ],
   "source": [
    "# calculate total no of flights\n",
    "AirlineTimeInfo.select('_c0').count()"
   ]
  },
  {
   "cell_type": "code",
   "execution_count": null,
   "id": "0dc5dad5",
   "metadata": {},
   "outputs": [],
   "source": [
    "# select year form 2000 to 2020\n",
    "AirlineTimeInfo.select('Year','FlightDate').filter((AirlineTimeInfo.Year >= 2015) & (AirlineTimeInfo.Year <= 2020)).show()"
   ]
  },
  {
   "cell_type": "code",
   "execution_count": null,
   "id": "89760998",
   "metadata": {},
   "outputs": [],
   "source": [
    "AirlineInfo.show()"
   ]
  },
  {
   "cell_type": "code",
   "execution_count": null,
   "id": "4d362d74",
   "metadata": {},
   "outputs": [],
   "source": [
    "#AirlineInfo.select('IATA_CODE_Reporting_Airline').groupBy('IATA_CODE_Reporting_Airline').count().show()\n",
    "## Group data by Carrier which is Reporting_Airline\n",
    "AirlineInfo.select('Reporting_Airline').groupBy('Reporting_Airline').count().show()"
   ]
  },
  {
   "cell_type": "code",
   "execution_count": null,
   "id": "f3c3f607",
   "metadata": {},
   "outputs": [],
   "source": [
    "CarrierDF = spark.read.option(\"header\", \"true\").csv(\"carriers.csv\")"
   ]
  },
  {
   "cell_type": "code",
   "execution_count": null,
   "id": "4d98653f",
   "metadata": {},
   "outputs": [],
   "source": [
    "CarrierDF.show(200)"
   ]
  },
  {
   "cell_type": "code",
   "execution_count": null,
   "id": "33e1e0f4",
   "metadata": {},
   "outputs": [],
   "source": [
    "AirlineOriginInfo.show(5)"
   ]
  },
  {
   "cell_type": "code",
   "execution_count": null,
   "id": "8da78203",
   "metadata": {},
   "outputs": [],
   "source": [
    "AirlineDestinationInfo.show(5)"
   ]
  },
  {
   "cell_type": "code",
   "execution_count": null,
   "id": "6859c0a8",
   "metadata": {},
   "outputs": [],
   "source": [
    "AirlineDepartureInfo.show(5)"
   ]
  },
  {
   "cell_type": "code",
   "execution_count": null,
   "id": "65a26c56",
   "metadata": {},
   "outputs": [],
   "source": [
    "#find flights 15 min or more than 15 min delay departure\n",
    "AirlineDepartureInfo.select('_c0','DepDelayMinutes').filter(\"DepDelayMinutes < 15\").show()"
   ]
  },
  {
   "cell_type": "code",
   "execution_count": null,
   "id": "00926313",
   "metadata": {},
   "outputs": [],
   "source": [
    "# calculate total no of departure delay flights (15 min or more than 15 min delay)\n",
    "AirlineDepartureInfo.select('DepDelayMinutes').filter(\"DepDelayMinutes >= 15\").count()"
   ]
  },
  {
   "cell_type": "code",
   "execution_count": null,
   "id": "b0e483a7",
   "metadata": {
    "scrolled": true
   },
   "outputs": [],
   "source": [
    "AirlineArrivalInfo.show(5)"
   ]
  },
  {
   "cell_type": "code",
   "execution_count": null,
   "id": "94529c2d",
   "metadata": {},
   "outputs": [],
   "source": [
    "#find flights 15 min or more than 15 min delay Arrive\n",
    "AirlineArrivalInfo.select('_c0','ArrDelayMinutes').filter(\"ArrDelayMinutes >= 15\").show()"
   ]
  },
  {
   "cell_type": "code",
   "execution_count": null,
   "id": "256bbd2b",
   "metadata": {},
   "outputs": [],
   "source": [
    "#calculate total no of Arrival delay flights (15 min or more than 15 min delay)\n",
    "AirlineArrivalInfo.select('ArrDelayMinutes').filter(\"ArrDelayMinutes >= 15\").count()"
   ]
  },
  {
   "cell_type": "code",
   "execution_count": null,
   "id": "94b77598",
   "metadata": {},
   "outputs": [],
   "source": [
    "AirlineCanDivInfo.show(5)"
   ]
  },
  {
   "cell_type": "code",
   "execution_count": null,
   "id": "73685602",
   "metadata": {},
   "outputs": [],
   "source": [
    "#calculate total number of cancelled flights\n",
    "AirlineCanDivInfo.select('Cancelled').filter(\"Cancelled  == 1\").count()"
   ]
  },
  {
   "cell_type": "code",
   "execution_count": null,
   "id": "cd833dd8",
   "metadata": {},
   "outputs": [],
   "source": [
    "#calculate total number of diverted flights\n",
    "AirlineCanDivInfo.select('Diverted').filter(\"Diverted  == 1\").count()"
   ]
  },
  {
   "cell_type": "code",
   "execution_count": null,
   "id": "47d8698d",
   "metadata": {},
   "outputs": [],
   "source": [
    "AirlineSummry.show(5)"
   ]
  },
  {
   "cell_type": "code",
   "execution_count": null,
   "id": "7c535983",
   "metadata": {},
   "outputs": [],
   "source": [
    "AirlineDelayInfo.show(5)"
   ]
  },
  {
   "cell_type": "code",
   "execution_count": null,
   "id": "054763f8",
   "metadata": {},
   "outputs": [],
   "source": [
    "#calculate total no of CarrierDelay\n",
    "AirlineDelayInfo.select('CarrierDelay').filter(\"CarrierDelay > 0\").count()"
   ]
  },
  {
   "cell_type": "code",
   "execution_count": null,
   "id": "93db772e",
   "metadata": {},
   "outputs": [],
   "source": [
    "#calculate total no of WeatherDelay\n",
    "AirlineDelayInfo.select('WeatherDelay').filter(\"WeatherDelay > 0\").count()"
   ]
  },
  {
   "cell_type": "code",
   "execution_count": null,
   "id": "025b8f92",
   "metadata": {},
   "outputs": [],
   "source": [
    "#calculate total no of NASDelay\n",
    "AirlineDelayInfo.select('NASDelay').filter(\"NASDelay > 0\").count()"
   ]
  },
  {
   "cell_type": "code",
   "execution_count": null,
   "id": "67335d6b",
   "metadata": {},
   "outputs": [],
   "source": [
    "#calculate total no of SecurityDelay\n",
    "AirlineDelayInfo.select('SecurityDelay').filter(\"SecurityDelay > 0\").count()"
   ]
  },
  {
   "cell_type": "code",
   "execution_count": null,
   "id": "41410fe8",
   "metadata": {},
   "outputs": [],
   "source": [
    "#calculate total no of LateAircraftDelay\n",
    "AirlineDelayInfo.select('LateAircraftDelay').filter(\"LateAircraftDelay > 0\").count()"
   ]
  },
  {
   "cell_type": "markdown",
   "id": "68329eea",
   "metadata": {},
   "source": [
    "# Joins "
   ]
  },
  {
   "cell_type": "code",
   "execution_count": null,
   "id": "087bd850",
   "metadata": {},
   "outputs": [],
   "source": [
    "# join two dataframe \n",
    "AirlineTimeInfo.join(AirlineInfo,AirlineTimeInfo._c0 ==  AirlineInfo._c0).show(2)"
   ]
  },
  {
   "cell_type": "code",
   "execution_count": null,
   "id": "acee4d71",
   "metadata": {
    "scrolled": false
   },
   "outputs": [],
   "source": [
    "# join three dataframe\n",
    "AirlineTimeInfo.join(AirlineInfo,[\"_c0\"]).join(AirlineCanDivInfo,AirlineTimeInfo[\"_c0\"] == AirlineCanDivInfo[\"_c0\"]).show(2)"
   ]
  },
  {
   "cell_type": "code",
   "execution_count": null,
   "id": "eb2286a3",
   "metadata": {},
   "outputs": [],
   "source": [
    "#join two dataframe query\n",
    "DelayDF1 = AirlineTimeInfo.select('_c0','Year').filter((AirlineTimeInfo.Year >= 2000) & (AirlineTimeInfo.Year <= 2020)) \\\n",
    ".join(AirlineInfo.select('_c0','Reporting_Airline').groupBy('Reporting_Airline').count() \\\n",
    "      ,AirlineTimeInfo._c0 ==  AirlineInfo._c0,\"inner\").withColumnRenamed(\"count\", \"Total Flights\")"
   ]
  },
  {
   "cell_type": "code",
   "execution_count": null,
   "id": "be8171a1",
   "metadata": {
    "scrolled": true
   },
   "outputs": [],
   "source": [
    "DelayDF1.show()"
   ]
  },
  {
   "cell_type": "code",
   "execution_count": null,
   "id": "4f1a1b3f",
   "metadata": {},
   "outputs": [],
   "source": [
    "#AirlineInfo.select('Reporting_Airline').distinct().show()"
   ]
  },
  {
   "cell_type": "markdown",
   "id": "177ed3a3",
   "metadata": {},
   "source": [
    "# Create DataFrame"
   ]
  },
  {
   "cell_type": "code",
   "execution_count": 15,
   "id": "0f0b1325",
   "metadata": {},
   "outputs": [],
   "source": [
    "AirlineDF5 = AirlineDF.select(\"_c0\",\"Year\",\"Quarter\", \"Month\", \"DayofMonth\", \"DayofWeek\" , \\\n",
    "                              \"FlightDate\",\"Reporting_Airline\",\"DOT_ID_Reporting_Airline\", \\\n",
    "                              \"IATA_CODE_Reporting_Airline\", \"Tail_Number\", \"Flight_Number_Reporting_Airline\", \\\n",
    "                              \"OriginAirportID\",\"OriginAirportSeqID\", \"OriginCityMarketID\", \"Origin\", \\\n",
    "                              \"OriginCityName\" , \"OriginState\", \"OriginStateFips\", \"OriginStateName\", \\\n",
    "                              \"OriginWac\",\"DestAirportID\",\"DestAirportSeqID\", \"DestCityMarketID\", \\\n",
    "                              \"Dest\", \"DestCityName\" , \"DestState\", \"DestStateFips\", \"DestStateName\", \\\n",
    "                              \"DestWac\",\"CRSDepTime\",\"DepTime\", \"DepDelay\", \"DepDelayMinutes\", \"DepDel15\" , \\\n",
    "                              \"DepartureDelayGroups\", \"DepTimeBlk\", \"TaxiOut\", \"WheelsOff\",\"WheelsOn\",\"TaxiIn\", \\\n",
    "                              \"CRSArrTime\", \"ArrTime\", \"ArrDelay\" , \"ArrDelayMinutes\", \"ArrDel15\", \\\n",
    "                              \"ArrivalDelayGroups\", \"ArrTimeBlk\",\"Cancelled\",\"CancellationCode\", \\\n",
    "                              \"Diverted\",\"CRSElapsedTime\",\"ActualElapsedTime\", \"AirTime\", \"Flights\", \\\n",
    "                              \"Distance\" , \"DistanceGroup\",\"CarrierDelay\",\"WeatherDelay\", \"NASDelay\", \\\n",
    "                              \"SecurityDelay\", \"LateAircraftDelay\" )"
   ]
  },
  {
   "cell_type": "code",
   "execution_count": 16,
   "id": "33a81b9f",
   "metadata": {},
   "outputs": [],
   "source": [
    "#group by carrier and count number of flights in each group\n",
    "#AirlineDF5.select('Year','Reporting_Airline').filter((AirlineDF5.Year >= 2000) & (AirlineDF5.Year <= 2020)) \\\n",
    "#.groupBy('Reporting_Airline').count().show()"
   ]
  },
  {
   "cell_type": "code",
   "execution_count": 17,
   "id": "3b82d68e",
   "metadata": {},
   "outputs": [],
   "source": [
    "#AirlineDF5.select('Year','Reporting_Airline').filter((AirlineDF5.Year >= 2000) & (AirlineDF5.Year <= 2020)) \\\n",
    "#.filter(\"Cancelled  == 1\").groupBy('Reporting_Airline').count().show()"
   ]
  },
  {
   "cell_type": "markdown",
   "id": "e1b366fb",
   "metadata": {},
   "source": [
    "# Case Study 1 \n",
    "Departure Delay Report for all flights from year 2000 to 2020 by carrier"
   ]
  },
  {
   "cell_type": "code",
   "execution_count": 18,
   "id": "0d148fb5",
   "metadata": {},
   "outputs": [],
   "source": [
    "# calculate total no of flights and  group data by Carrier\n",
    "df1 = AirlineDF5.select('Year','Reporting_Airline') \\\n",
    ".filter((AirlineDF5.Year >= 2000) & (AirlineDF5.Year <= 2020)).groupBy('Reporting_Airline') \\\n",
    ".count().withColumnRenamed(\"count\", \"Total Flights\").orderBy(\"Reporting_Airline\")"
   ]
  },
  {
   "cell_type": "code",
   "execution_count": 19,
   "id": "5d562ded",
   "metadata": {},
   "outputs": [
    {
     "name": "stdout",
     "output_type": "stream",
     "text": [
      "+-----------------+-------------+\n",
      "|Reporting_Airline|Total Flights|\n",
      "+-----------------+-------------+\n",
      "|               9E|          518|\n",
      "|               AA|         3620|\n",
      "|               AS|          889|\n",
      "|               B6|          905|\n",
      "|               CO|          909|\n",
      "|               DH|          168|\n",
      "|               DL|         3938|\n",
      "|               EV|         1749|\n",
      "|               F9|          372|\n",
      "|               FL|          622|\n",
      "|               G4|           55|\n",
      "|               HA|          304|\n",
      "|               HP|          299|\n",
      "|               KH|           42|\n",
      "|               MQ|         2015|\n",
      "|               NK|          213|\n",
      "|               NW|         1202|\n",
      "|               OH|          607|\n",
      "|               OO|         2719|\n",
      "|               TW|          123|\n",
      "+-----------------+-------------+\n",
      "only showing top 20 rows\n",
      "\n"
     ]
    }
   ],
   "source": [
    "df1.show()"
   ]
  },
  {
   "cell_type": "code",
   "execution_count": 20,
   "id": "9b9d274e",
   "metadata": {},
   "outputs": [],
   "source": [
    "#Calculate total no of Departure delay flights\n",
    "df2 = AirlineDF5.select('Reporting_Airline','DepDelayMinutes') \\\n",
    ".filter((AirlineDF5.Year >= 2000) & (AirlineDF5.Year <= 2020)) \\\n",
    ".filter(\"DepDelayMinutes >= 10\").groupBy('Reporting_Airline') \\\n",
    ".count().withColumnRenamed(\"count\", \"Total Departure Delay Flights\").orderBy(\"Reporting_Airline\")"
   ]
  },
  {
   "cell_type": "code",
   "execution_count": 21,
   "id": "6126af5b",
   "metadata": {},
   "outputs": [
    {
     "name": "stdout",
     "output_type": "stream",
     "text": [
      "+-----------------+-----------------------------+\n",
      "|Reporting_Airline|Total Departure Delay Flights|\n",
      "+-----------------+-----------------------------+\n",
      "|               9E|                           96|\n",
      "|               AA|                          780|\n",
      "|               AS|                          166|\n",
      "|               B6|                          224|\n",
      "|               CO|                          180|\n",
      "|               DH|                           44|\n",
      "|               DL|                          728|\n",
      "|               EV|                          453|\n",
      "|               F9|                           87|\n",
      "|               FL|                          147|\n",
      "|               G4|                           15|\n",
      "|               HA|                           25|\n",
      "|               HP|                           63|\n",
      "|               KH|                            5|\n",
      "|               MQ|                          445|\n",
      "|               NK|                           50|\n",
      "|               NW|                          225|\n",
      "|               OH|                          137|\n",
      "|               OO|                          546|\n",
      "|               TW|                           21|\n",
      "+-----------------+-----------------------------+\n",
      "only showing top 20 rows\n",
      "\n"
     ]
    }
   ],
   "source": [
    "df2.show()"
   ]
  },
  {
   "cell_type": "code",
   "execution_count": 22,
   "id": "fc044fcd",
   "metadata": {
    "scrolled": true
   },
   "outputs": [],
   "source": [
    "# calculate total no. of arrival delay flights\n",
    "df3 = AirlineDF5.select('Reporting_Airline','ArrDelayMinutes') \\\n",
    ".filter((AirlineDF5.Year >= 2000) & (AirlineDF5.Year <= 2020)) \\\n",
    ".filter(\"ArrDelayMinutes >= 10\").groupBy('Reporting_Airline') \\\n",
    ".count().withColumnRenamed(\"count\", \"Total Arrival Delay Flights\").orderBy(\"Reporting_Airline\")"
   ]
  },
  {
   "cell_type": "code",
   "execution_count": 23,
   "id": "0a66ebd7",
   "metadata": {},
   "outputs": [
    {
     "name": "stdout",
     "output_type": "stream",
     "text": [
      "+-----------------+---------------------------+\n",
      "|Reporting_Airline|Total Arrival Delay Flights|\n",
      "+-----------------+---------------------------+\n",
      "|               9E|                        106|\n",
      "|               AA|                        891|\n",
      "|               AS|                        198|\n",
      "|               B6|                        235|\n",
      "|               CO|                        240|\n",
      "|               DH|                         50|\n",
      "|               DL|                        831|\n",
      "|               EV|                        485|\n",
      "|               F9|                        110|\n",
      "|               FL|                        161|\n",
      "|               G4|                         16|\n",
      "|               HA|                         39|\n",
      "|               HP|                         87|\n",
      "|               KH|                          6|\n",
      "|               MQ|                        527|\n",
      "|               NK|                         58|\n",
      "|               NW|                        321|\n",
      "|               OH|                        171|\n",
      "|               OO|                        622|\n",
      "|               TW|                         30|\n",
      "+-----------------+---------------------------+\n",
      "only showing top 20 rows\n",
      "\n"
     ]
    }
   ],
   "source": [
    "df3.show()"
   ]
  },
  {
   "cell_type": "code",
   "execution_count": 24,
   "id": "3dc16068",
   "metadata": {},
   "outputs": [],
   "source": [
    "#calculate total no. of cancelled flights\n",
    "df4 = AirlineDF5.select('Reporting_Airline','Cancelled') \\\n",
    ".filter((AirlineDF5.Year >= 2000) & (AirlineDF5.Year <= 2020)) \\\n",
    ".filter(\"Cancelled  == 1\").groupBy('Reporting_Airline') \\\n",
    ".count().withColumnRenamed(\"count\", \"Total Cancelled Flights\").orderBy(\"Reporting_Airline\")"
   ]
  },
  {
   "cell_type": "code",
   "execution_count": 25,
   "id": "d0ac27f5",
   "metadata": {},
   "outputs": [
    {
     "name": "stdout",
     "output_type": "stream",
     "text": [
      "+-----------------+-----------------------+\n",
      "|Reporting_Airline|Total Cancelled Flights|\n",
      "+-----------------+-----------------------+\n",
      "|               9E|                     13|\n",
      "|               AA|                     70|\n",
      "|               AS|                     11|\n",
      "|               B6|                     12|\n",
      "|               CO|                     12|\n",
      "|               DH|                      6|\n",
      "|               DL|                     54|\n",
      "|               EV|                     32|\n",
      "|               F9|                      1|\n",
      "|               FL|                      3|\n",
      "|               HP|                      5|\n",
      "|               MQ|                     82|\n",
      "|               NK|                      3|\n",
      "|               NW|                     20|\n",
      "|               OH|                     14|\n",
      "|               OO|                     58|\n",
      "|               TW|                      3|\n",
      "|               UA|                     52|\n",
      "|               US|                     35|\n",
      "|               VX|                      1|\n",
      "+-----------------+-----------------------+\n",
      "only showing top 20 rows\n",
      "\n"
     ]
    }
   ],
   "source": [
    "df4.show()"
   ]
  },
  {
   "cell_type": "code",
   "execution_count": 26,
   "id": "75b606e6",
   "metadata": {},
   "outputs": [],
   "source": [
    "# calculate total no. of diverted flights\n",
    "df5 = AirlineDF5.select('Reporting_Airline','Diverted') \\\n",
    ".filter((AirlineDF5.Year >= 2000) & (AirlineDF5.Year <= 2020)) \\\n",
    ".filter(\"Diverted  == 1\").groupBy('Reporting_Airline') \\\n",
    ".count().withColumnRenamed(\"count\", \"Total Diverted Flights\").orderBy(\"Reporting_Airline\")"
   ]
  },
  {
   "cell_type": "code",
   "execution_count": 27,
   "id": "9c4134cd",
   "metadata": {},
   "outputs": [
    {
     "name": "stdout",
     "output_type": "stream",
     "text": [
      "+-----------------+----------------------+\n",
      "|Reporting_Airline|Total Diverted Flights|\n",
      "+-----------------+----------------------+\n",
      "|               AA|                     5|\n",
      "|               AS|                     5|\n",
      "|               B6|                     3|\n",
      "|               CO|                     1|\n",
      "|               DH|                     1|\n",
      "|               DL|                     8|\n",
      "|               EV|                    11|\n",
      "|               FL|                     4|\n",
      "|               G4|                     1|\n",
      "|               MQ|                    10|\n",
      "|               NW|                     4|\n",
      "|               OH|                     1|\n",
      "|               OO|                    10|\n",
      "|               UA|                     7|\n",
      "|               US|                     2|\n",
      "|               VX|                     1|\n",
      "|               WN|                    11|\n",
      "|               XE|                     2|\n",
      "|               YV|                     3|\n",
      "+-----------------+----------------------+\n",
      "\n"
     ]
    }
   ],
   "source": [
    "df5.show()"
   ]
  },
  {
   "cell_type": "code",
   "execution_count": 28,
   "id": "ce4b1de2",
   "metadata": {},
   "outputs": [],
   "source": [
    "# calculate total no. of carrier delay flights\n",
    "df6 = AirlineDF5.select('Reporting_Airline','CarrierDelay') \\\n",
    ".filter((AirlineDF5.Year >= 2000) & (AirlineDF5.Year <= 2020)) \\\n",
    ".filter(\"CarrierDelay > 0\").groupBy('Reporting_Airline') \\\n",
    ".count().withColumnRenamed(\"count\", \"Total CarrierDelay Flights\").orderBy(\"Reporting_Airline\")"
   ]
  },
  {
   "cell_type": "code",
   "execution_count": 29,
   "id": "438c3330",
   "metadata": {},
   "outputs": [
    {
     "name": "stdout",
     "output_type": "stream",
     "text": [
      "+-----------------+--------------------------+\n",
      "|Reporting_Airline|Total CarrierDelay Flights|\n",
      "+-----------------+--------------------------+\n",
      "|               9E|                        33|\n",
      "|               AA|                       277|\n",
      "|               AS|                        40|\n",
      "|               B6|                       125|\n",
      "|               CO|                        49|\n",
      "|               DH|                        13|\n",
      "|               DL|                       243|\n",
      "|               EV|                       206|\n",
      "|               F9|                        36|\n",
      "|               FL|                        32|\n",
      "|               G4|                         8|\n",
      "|               HA|                        18|\n",
      "|               HP|                        14|\n",
      "|               MQ|                       146|\n",
      "|               NK|                        17|\n",
      "|               NW|                        73|\n",
      "|               OH|                        59|\n",
      "|               OO|                       197|\n",
      "|               TZ|                         1|\n",
      "|               UA|                       213|\n",
      "+-----------------+--------------------------+\n",
      "only showing top 20 rows\n",
      "\n"
     ]
    }
   ],
   "source": [
    "df6.show()"
   ]
  },
  {
   "cell_type": "code",
   "execution_count": 30,
   "id": "8acd45b0",
   "metadata": {},
   "outputs": [],
   "source": [
    "# calculate total no. of weather delay flights\n",
    "df7 = AirlineDF5.select('Reporting_Airline','WeatherDelay') \\\n",
    ".filter((AirlineDF5.Year >= 2000) & (AirlineDF5.Year <= 2020)) \\\n",
    ".filter(\"WeatherDelay > 0\").groupBy('Reporting_Airline') \\\n",
    ".count().withColumnRenamed(\"count\", \"Total WeatherDelay Flights\").orderBy(\"Reporting_Airline\")"
   ]
  },
  {
   "cell_type": "code",
   "execution_count": 31,
   "id": "ecc17790",
   "metadata": {},
   "outputs": [
    {
     "name": "stdout",
     "output_type": "stream",
     "text": [
      "+-----------------+--------------------------+\n",
      "|Reporting_Airline|Total WeatherDelay Flights|\n",
      "+-----------------+--------------------------+\n",
      "|               9E|                         5|\n",
      "|               AA|                        64|\n",
      "|               AS|                         2|\n",
      "|               B6|                         8|\n",
      "|               CO|                        12|\n",
      "|               DH|                         2|\n",
      "|               DL|                        28|\n",
      "|               EV|                        30|\n",
      "|               F9|                         3|\n",
      "|               FL|                         1|\n",
      "|               G4|                         4|\n",
      "|               HA|                         2|\n",
      "|               MQ|                        43|\n",
      "|               NK|                         2|\n",
      "|               NW|                        15|\n",
      "|               OH|                        24|\n",
      "|               OO|                        23|\n",
      "|               UA|                        19|\n",
      "|               US|                        13|\n",
      "|               VX|                         3|\n",
      "+-----------------+--------------------------+\n",
      "only showing top 20 rows\n",
      "\n"
     ]
    }
   ],
   "source": [
    "df7.show()"
   ]
  },
  {
   "cell_type": "code",
   "execution_count": 32,
   "id": "b79d4931",
   "metadata": {},
   "outputs": [],
   "source": [
    "#calculate total no. of NAS delay flights\n",
    "df8 = AirlineDF5.select('Reporting_Airline','NASDelay') \\\n",
    ".filter((AirlineDF5.Year >= 2000) & (AirlineDF5.Year <= 2020)) \\\n",
    ".filter(\"NASDelay > 0\").groupBy('Reporting_Airline') \\\n",
    ".count().withColumnRenamed(\"count\", \"Total NASDelay Flights\").orderBy(\"Reporting_Airline\")"
   ]
  },
  {
   "cell_type": "code",
   "execution_count": 33,
   "id": "eaa7b3ba",
   "metadata": {},
   "outputs": [
    {
     "name": "stdout",
     "output_type": "stream",
     "text": [
      "+-----------------+----------------------+\n",
      "|Reporting_Airline|Total NASDelay Flights|\n",
      "+-----------------+----------------------+\n",
      "|               9E|                    54|\n",
      "|               AA|                   356|\n",
      "|               AS|                    68|\n",
      "|               B6|                   134|\n",
      "|               CO|                   103|\n",
      "|               DH|                    20|\n",
      "|               DL|                   327|\n",
      "|               EV|                   227|\n",
      "|               F9|                    57|\n",
      "|               FL|                    77|\n",
      "|               G4|                     3|\n",
      "|               HP|                    15|\n",
      "|               MQ|                   235|\n",
      "|               NK|                    44|\n",
      "|               NW|                    97|\n",
      "|               OH|                    84|\n",
      "|               OO|                   219|\n",
      "|               TZ|                     5|\n",
      "|               UA|                   276|\n",
      "|               US|                   174|\n",
      "+-----------------+----------------------+\n",
      "only showing top 20 rows\n",
      "\n"
     ]
    }
   ],
   "source": [
    "df8.show()"
   ]
  },
  {
   "cell_type": "code",
   "execution_count": 34,
   "id": "a8ef3805",
   "metadata": {},
   "outputs": [],
   "source": [
    "#calculate total no. of security delay flights\n",
    "df9 = AirlineDF5.select('Reporting_Airline','SecurityDelay') \\\n",
    ".filter((AirlineDF5.Year >= 2000) & (AirlineDF5.Year <= 2020)) \\\n",
    ".filter(\"SecurityDelay > 0\").groupBy('Reporting_Airline') \\\n",
    ".count().withColumnRenamed(\"count\", \"Total SecurityDelay Flights\").orderBy(\"Reporting_Airline\")"
   ]
  },
  {
   "cell_type": "code",
   "execution_count": 35,
   "id": "28eb2d06",
   "metadata": {},
   "outputs": [
    {
     "name": "stdout",
     "output_type": "stream",
     "text": [
      "+-----------------+---------------------------+\n",
      "|Reporting_Airline|Total SecurityDelay Flights|\n",
      "+-----------------+---------------------------+\n",
      "|               AA|                          1|\n",
      "|               AS|                          1|\n",
      "|               B6|                          1|\n",
      "|               DL|                          1|\n",
      "|               NW|                          2|\n",
      "|               OO|                          1|\n",
      "|               TZ|                          1|\n",
      "|               US|                          2|\n",
      "|               VX|                          1|\n",
      "|               WN|                          7|\n",
      "|               XE|                          2|\n",
      "|               YV|                          1|\n",
      "+-----------------+---------------------------+\n",
      "\n"
     ]
    }
   ],
   "source": [
    "df9.show()"
   ]
  },
  {
   "cell_type": "code",
   "execution_count": 36,
   "id": "68dfa316",
   "metadata": {},
   "outputs": [],
   "source": [
    "# calculate total no. of late aircraft delay flights\n",
    "df10 = AirlineDF5.select('Reporting_Airline','LateAircraftDelay') \\\n",
    ".filter((AirlineDF5.Year >= 2000) & (AirlineDF5.Year <= 2020)) \\\n",
    ".filter(\"LateAircraftDelay > 0\").groupBy('Reporting_Airline') \\\n",
    ".count().withColumnRenamed(\"count\", \"Total LateAircraftDelay Flights\").orderBy(\"Reporting_Airline\")"
   ]
  },
  {
   "cell_type": "code",
   "execution_count": 37,
   "id": "24ce4106",
   "metadata": {},
   "outputs": [
    {
     "name": "stdout",
     "output_type": "stream",
     "text": [
      "+-----------------+-------------------------------+\n",
      "|Reporting_Airline|Total LateAircraftDelay Flights|\n",
      "+-----------------+-------------------------------+\n",
      "|               9E|                             35|\n",
      "|               AA|                            286|\n",
      "|               AS|                             43|\n",
      "|               B6|                            111|\n",
      "|               CO|                             37|\n",
      "|               DH|                             16|\n",
      "|               DL|                            214|\n",
      "|               EV|                            178|\n",
      "|               F9|                             43|\n",
      "|               FL|                             64|\n",
      "|               G4|                              8|\n",
      "|               HA|                              9|\n",
      "|               HP|                              6|\n",
      "|               KH|                              3|\n",
      "|               MQ|                            205|\n",
      "|               NK|                             11|\n",
      "|               NW|                             47|\n",
      "|               OH|                             35|\n",
      "|               OO|                            256|\n",
      "|               TZ|                              2|\n",
      "+-----------------+-------------------------------+\n",
      "only showing top 20 rows\n",
      "\n"
     ]
    }
   ],
   "source": [
    "df10.show()"
   ]
  },
  {
   "cell_type": "code",
   "execution_count": 38,
   "id": "4c36f05a",
   "metadata": {
    "scrolled": true
   },
   "outputs": [],
   "source": [
    "#df1.join(df2,df1.Reporting_Airline ==  df2.Reporting_Airline,\"inner\").show(2)"
   ]
  },
  {
   "cell_type": "code",
   "execution_count": 39,
   "id": "0df40965",
   "metadata": {},
   "outputs": [],
   "source": [
    "#df1.join(df2,[\"Reporting_Airline\"])\\\n",
    "#.join(df3,df1[\"Reporting_Airline\"] == df3[\"Reporting_Airline\"])\\\n",
    "#.show(2)"
   ]
  },
  {
   "cell_type": "code",
   "execution_count": 40,
   "id": "02879b61",
   "metadata": {},
   "outputs": [],
   "source": [
    "# joining multiple dataframe\n",
    "DelayReport = df1.alias(\"df1\")\\\n",
    ".join(df2.alias(\"df2\"),[\"Reporting_Airline\"])\\\n",
    ".join(df3.alias(\"df3\"),[\"Reporting_Airline\"])\\\n",
    ".join(df4.alias(\"df4\"),[\"Reporting_Airline\"])\\\n",
    ".join(df5.alias(\"df5\"),[\"Reporting_Airline\"])\\\n",
    ".join(df6.alias(\"df6\"),[\"Reporting_Airline\"])\\\n",
    ".join(df7.alias(\"df7\"),[\"Reporting_Airline\"])\\\n",
    ".join(df8.alias(\"df8\"),[\"Reporting_Airline\"])\\\n",
    ".join(df9.alias(\"df9\"),[\"Reporting_Airline\"])\\\n",
    ".join(df10.alias(\"df10\"),[\"Reporting_Airline\"])"
   ]
  },
  {
   "cell_type": "code",
   "execution_count": 41,
   "id": "4f45717f",
   "metadata": {},
   "outputs": [
    {
     "name": "stdout",
     "output_type": "stream",
     "text": [
      "+-----------------+-------------+-----------------------------+---------------------------+-----------------------+----------------------+--------------------------+--------------------------+----------------------+---------------------------+-------------------------------+\n",
      "|Reporting_Airline|Total Flights|Total Departure Delay Flights|Total Arrival Delay Flights|Total Cancelled Flights|Total Diverted Flights|Total CarrierDelay Flights|Total WeatherDelay Flights|Total NASDelay Flights|Total SecurityDelay Flights|Total LateAircraftDelay Flights|\n",
      "+-----------------+-------------+-----------------------------+---------------------------+-----------------------+----------------------+--------------------------+--------------------------+----------------------+---------------------------+-------------------------------+\n",
      "|               AA|         3620|                          780|                        891|                     70|                     5|                       277|                        64|                   356|                          1|                            286|\n",
      "|               NW|         1202|                          225|                        321|                     20|                     4|                        73|                        15|                    97|                          2|                             47|\n",
      "|               B6|          905|                          224|                        235|                     12|                     3|                       125|                         8|                   134|                          1|                            111|\n",
      "|               DL|         3938|                          728|                        831|                     54|                     8|                       243|                        28|                   327|                          1|                            214|\n",
      "|               OO|         2719|                          546|                        622|                     58|                    10|                       197|                        23|                   219|                          1|                            256|\n",
      "+-----------------+-------------+-----------------------------+---------------------------+-----------------------+----------------------+--------------------------+--------------------------+----------------------+---------------------------+-------------------------------+\n",
      "only showing top 5 rows\n",
      "\n"
     ]
    }
   ],
   "source": [
    "#complete delay report\n",
    "DelayReport.show(5)"
   ]
  },
  {
   "cell_type": "code",
   "execution_count": 42,
   "id": "6343185b",
   "metadata": {},
   "outputs": [
    {
     "name": "stdout",
     "output_type": "stream",
     "text": [
      "+-------+-----------------+------------------+-----------------------------+---------------------------+-----------------------+----------------------+--------------------------+--------------------------+----------------------+---------------------------+-------------------------------+\n",
      "|summary|Reporting_Airline|     Total Flights|Total Departure Delay Flights|Total Arrival Delay Flights|Total Cancelled Flights|Total Diverted Flights|Total CarrierDelay Flights|Total WeatherDelay Flights|Total NASDelay Flights|Total SecurityDelay Flights|Total LateAircraftDelay Flights|\n",
      "+-------+-----------------+------------------+-----------------------------+---------------------------+-----------------------+----------------------+--------------------------+--------------------------+----------------------+---------------------------+-------------------------------+\n",
      "|  count|               11|                11|                           11|                         11|                     11|                    11|                        11|                        11|                    11|                         11|                             11|\n",
      "|   mean|             null|2042.1818181818182|                        453.0|         489.54545454545456|      33.36363636363637|     4.909090909090909|                     164.0|         19.09090909090909|    179.72727272727272|         1.8181818181818181|             165.63636363636363|\n",
      "| stddev|             null|1781.3471766155983|            463.1809581578241|          420.8960355328531|     24.475590809100918|    3.3601947995479504|        166.63493031174465|         18.40898989871278|     134.3897993964504|         1.7786613965666325|              190.2683750533823|\n",
      "|    min|               AA|               101|                           23|                         28|                      1|                     1|                         6|                         2|                    12|                          1|                              8|\n",
      "|    max|               YV|              5847|                         1633|                       1438|                     70|                    11|                       593|                        64|                   416|                          7|                            663|\n",
      "+-------+-----------------+------------------+-----------------------------+---------------------------+-----------------------+----------------------+--------------------------+--------------------------+----------------------+---------------------------+-------------------------------+\n",
      "\n"
     ]
    }
   ],
   "source": [
    "#statistics of DelayReport\n",
    "DelayReport.describe().show()"
   ]
  },
  {
   "cell_type": "code",
   "execution_count": 44,
   "id": "6f15b313",
   "metadata": {},
   "outputs": [],
   "source": [
    "# import windows library\n",
    "import pyspark.sql.functions as f\n",
    "from pyspark.sql.window import Window"
   ]
  },
  {
   "cell_type": "code",
   "execution_count": 46,
   "id": "4d087dd6",
   "metadata": {},
   "outputs": [],
   "source": [
    "# calculate result in percentage\n",
    "df123 = DelayReport\\\n",
    ".withColumn('depdelaypercent', f.col('Total Departure Delay Flights')/f.col('Total Flights')*100)\\\n",
    ".withColumn('arrdelaypercent', f.col('Total Arrival Delay Flights')/f.col('Total Flights')*100)\\\n",
    ".withColumn('cancelledpercent', f.col('Total Cancelled Flights')/f.col('Total Flights')*100)"
   ]
  },
  {
   "cell_type": "code",
   "execution_count": 47,
   "id": "ae1a9359",
   "metadata": {},
   "outputs": [],
   "source": [
    "#DelayReport.groupBy().max('Total Departure Delay Flights').show()"
   ]
  },
  {
   "cell_type": "code",
   "execution_count": 48,
   "id": "7784fbf8",
   "metadata": {},
   "outputs": [
    {
     "name": "stdout",
     "output_type": "stream",
     "text": [
      "+-----------------+-------------+------------------+------------------+------------------+\n",
      "|Reporting_Airline|Total Flights|   depdelaypercent|   arrdelaypercent|  cancelledpercent|\n",
      "+-----------------+-------------+------------------+------------------+------------------+\n",
      "|               AA|         3620| 21.54696132596685|24.613259668508285|1.9337016574585635|\n",
      "|               NW|         1202|18.718801996672212| 26.70549084858569|1.6638935108153077|\n",
      "|               B6|          905|24.751381215469614| 25.96685082872928|1.3259668508287292|\n",
      "|               DL|         3938|18.486541391569325|21.102082275266632|1.3712544438801422|\n",
      "|               OO|         2719|20.080912100036777|22.876057374034573|  2.13313718278779|\n",
      "|               YV|          562| 25.26690391459075| 27.75800711743772| 3.202846975088968|\n",
      "|               US|         1810|19.392265193370164| 24.53038674033149|1.9337016574585635|\n",
      "|               XE|          871| 18.94374282433984| 25.37313432835821| 2.525832376578645|\n",
      "|               AS|          889|18.672665916760405|22.272215973003377|1.2373453318335208|\n",
      "|               VX|          101|22.772277227722775|27.722772277227726|0.9900990099009901|\n",
      "|               WN|         5847| 27.92885240294168|24.593808790832906|1.1287839917906617|\n",
      "+-----------------+-------------+------------------+------------------+------------------+\n",
      "\n"
     ]
    }
   ],
   "source": [
    "df123.select('Reporting_Airline','Total Flights','depdelaypercent','arrdelaypercent','cancelledpercent').show()"
   ]
  },
  {
   "cell_type": "code",
   "execution_count": null,
   "id": "cfbb02c3",
   "metadata": {},
   "outputs": [],
   "source": [
    "#use dense rank for find top rankers by any cloumns\n",
    "from pyspark.sql import Window\n",
    "import pyspark.sql.functions as psf\n",
    "wT_Flights = Window.orderBy(psf.desc(\"Total Flights\")) \n",
    "testdf1 = DelayReport.withColumn(\n",
    "    \"Total Flights_rank\", \n",
    "    psf.dense_rank().over(wT_Flights)\n",
    ")"
   ]
  },
  {
   "cell_type": "code",
   "execution_count": null,
   "id": "c0f18127",
   "metadata": {},
   "outputs": [],
   "source": [
    "# top 10 Carrier by numbers of flights\n",
    "testdf1.show()"
   ]
  },
  {
   "cell_type": "code",
   "execution_count": null,
   "id": "6d91e83f",
   "metadata": {},
   "outputs": [],
   "source": [
    "testdf1.columns"
   ]
  },
  {
   "cell_type": "code",
   "execution_count": null,
   "id": "d01de35c",
   "metadata": {},
   "outputs": [],
   "source": [
    "testdf1.select('Reporting_Airline','Total Flights','Total Flights_rank').show()"
   ]
  },
  {
   "cell_type": "code",
   "execution_count": null,
   "id": "f143cf2e",
   "metadata": {},
   "outputs": [],
   "source": []
  },
  {
   "cell_type": "code",
   "execution_count": null,
   "id": "8797dfb2",
   "metadata": {},
   "outputs": [],
   "source": []
  },
  {
   "cell_type": "code",
   "execution_count": null,
   "id": "ebc4fe30",
   "metadata": {},
   "outputs": [],
   "source": []
  }
 ],
 "metadata": {
  "kernelspec": {
   "display_name": "Python 3 (ipykernel)",
   "language": "python",
   "name": "python3"
  },
  "language_info": {
   "codemirror_mode": {
    "name": "ipython",
    "version": 3
   },
   "file_extension": ".py",
   "mimetype": "text/x-python",
   "name": "python",
   "nbconvert_exporter": "python",
   "pygments_lexer": "ipython3",
   "version": "3.9.13"
  }
 },
 "nbformat": 4,
 "nbformat_minor": 5
}
